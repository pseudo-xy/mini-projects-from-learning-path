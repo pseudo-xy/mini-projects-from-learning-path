{
  "nbformat": 4,
  "nbformat_minor": 0,
  "metadata": {
    "colab": {
      "provenance": [],
      "authorship_tag": "ABX9TyNHbxstKhXeBowCEhLh9X3r",
      "include_colab_link": true
    },
    "kernelspec": {
      "name": "python3",
      "display_name": "Python 3"
    },
    "language_info": {
      "name": "python"
    }
  },
  "cells": [
    {
      "cell_type": "markdown",
      "metadata": {
        "id": "view-in-github",
        "colab_type": "text"
      },
      "source": [
        "<a href=\"https://colab.research.google.com/github/pseudo-xy/pseudo-xy/blob/main/pandas_and_numpy.ipynb\" target=\"_parent\"><img src=\"https://colab.research.google.com/assets/colab-badge.svg\" alt=\"Open In Colab\"/></a>"
      ]
    },
    {
      "cell_type": "code",
      "execution_count": null,
      "metadata": {
        "colab": {
          "base_uri": "https://localhost:8080/"
        },
        "id": "1C-nc0ZpIHDy",
        "outputId": "6aa68614-02e4-4eda-f825-38d5a4634b0b"
      },
      "outputs": [
        {
          "output_type": "stream",
          "name": "stdout",
          "text": [
            "[1.2 2.4 3.5 4.7 6.1 7.2 8.3 9.5]\n"
          ]
        }
      ],
      "source": [
        "import numpy as np\n",
        "one_dimensional_array = np.array([1.2, 2.4, 3.5, 4.7, 6.1, 7.2, 8.3, 9.5])\n",
        "print(one_dimensional_array)\n"
      ]
    },
    {
      "cell_type": "code",
      "source": [
        "import numpy as np\n",
        "two_dimensional_array = np.array([[1, 2], [3, 4], [5, 6]])\n",
        "print(two_dimensional_array)"
      ],
      "metadata": {
        "colab": {
          "base_uri": "https://localhost:8080/"
        },
        "id": "wCa63DAAOuiw",
        "outputId": "9e273c59-9205-43d4-f4f5-6333580f3861"
      },
      "execution_count": null,
      "outputs": [
        {
          "output_type": "stream",
          "name": "stdout",
          "text": [
            "[[1 2]\n",
            " [3 4]\n",
            " [5 6]]\n"
          ]
        }
      ]
    },
    {
      "cell_type": "code",
      "source": [
        "import numpy as np\n",
        "df = np.arange(5, 12)\n",
        "print(df)\n"
      ],
      "metadata": {
        "colab": {
          "base_uri": "https://localhost:8080/"
        },
        "id": "E5mFf5MdP7CC",
        "outputId": "da373c31-529b-4438-9d76-f833a0120764"
      },
      "execution_count": null,
      "outputs": [
        {
          "output_type": "stream",
          "name": "stdout",
          "text": [
            "[ 5  6  7  8  9 10 11]\n"
          ]
        }
      ]
    },
    {
      "cell_type": "code",
      "source": [
        "import numpy as np\n",
        "ds = np.random.random([6])\n",
        "print(ds)"
      ],
      "metadata": {
        "colab": {
          "base_uri": "https://localhost:8080/"
        },
        "id": "veIDy49bTwwR",
        "outputId": "aa86bc53-d29a-4e25-974b-ec1025c42ebb"
      },
      "execution_count": null,
      "outputs": [
        {
          "output_type": "stream",
          "name": "stdout",
          "text": [
            "[0.87649074 0.21392142 0.73835215 0.22686451 0.0807406  0.85679693]\n"
          ]
        }
      ]
    },
    {
      "cell_type": "code",
      "source": [
        "import numpy as np\n",
        "df = np.random.randint(low=30, high=90, size=(5))\n",
        "print(df)"
      ],
      "metadata": {
        "colab": {
          "base_uri": "https://localhost:8080/"
        },
        "id": "5s0ekUtmSz71",
        "outputId": "b8d3cc0f-b602-4869-80e7-a3921b042f3e"
      },
      "execution_count": null,
      "outputs": [
        {
          "output_type": "stream",
          "name": "stdout",
          "text": [
            "[69 52 48 78 48]\n"
          ]
        }
      ]
    },
    {
      "cell_type": "code",
      "source": [
        "import numpy as np\n",
        "feature = np.arange(6, 21)\n",
        "print(feature)"
      ],
      "metadata": {
        "colab": {
          "base_uri": "https://localhost:8080/"
        },
        "id": "0eO1Dcqpgdsj",
        "outputId": "c66051a2-9dd7-4e4d-ef11-9621dfdedf80"
      },
      "execution_count": null,
      "outputs": [
        {
          "output_type": "stream",
          "name": "stdout",
          "text": [
            "[ 6  7  8  9 10 11 12 13 14 15 16 17 18 19 20]\n"
          ]
        }
      ]
    },
    {
      "cell_type": "code",
      "source": [
        "label = 3 * (feature) + 4\n",
        "print(label)"
      ],
      "metadata": {
        "colab": {
          "base_uri": "https://localhost:8080/"
        },
        "id": "oKt5JbyOiSt2",
        "outputId": "dc8abcd3-004e-4475-ad0d-68b33814d5ba"
      },
      "execution_count": null,
      "outputs": [
        {
          "output_type": "stream",
          "name": "stdout",
          "text": [
            "[22 25 28 31 34 37 40 43 46 49 52 55 58 61 64]\n"
          ]
        }
      ]
    },
    {
      "cell_type": "code",
      "source": [
        "noise = (np.random.random([15]) * 4) - 2\n",
        "print(noise)\n",
        "label = noise + label\n",
        "print(label)"
      ],
      "metadata": {
        "colab": {
          "base_uri": "https://localhost:8080/"
        },
        "id": "lk0q_3y8jGzC",
        "outputId": "096c7ff3-cd3f-4646-9d83-a16c99108882"
      },
      "execution_count": null,
      "outputs": [
        {
          "output_type": "stream",
          "name": "stdout",
          "text": [
            "[ 0.5170761   0.27861559  0.9170538  -0.47385622  0.696873   -1.18763326\n",
            " -0.49213008 -0.42440034  0.83870526 -0.95059582  1.38017968 -0.13894516\n",
            " -1.26563209  1.08798442 -0.41447929]\n",
            "[22.81847117 23.77272123 29.62294705 31.52525498 35.06484096 34.20523203\n",
            " 38.65406791 42.64810925 45.26005494 49.39592965 53.01575745 53.46215646\n",
            " 57.39926884 62.85705173 62.24822732]\n"
          ]
        }
      ]
    },
    {
      "cell_type": "code",
      "source": [
        "import pandas as pd\n",
        "my_data = np.array([[0, 3], [10, 7], [20, 9], [30, 14], [40, 15]])\n",
        "my_columns_names = ('temperature', 'activity')\n",
        "my_dataframe = pd.DataFrame(data=my_data, columns=my_columns_names)\n",
        "print(my_dataframe)"
      ],
      "metadata": {
        "colab": {
          "base_uri": "https://localhost:8080/"
        },
        "id": "fU3du15En0zk",
        "outputId": "5b92844b-9eb0-4c10-fa31-4e99d2338e25"
      },
      "execution_count": null,
      "outputs": [
        {
          "output_type": "stream",
          "name": "stdout",
          "text": [
            "   temperature  activity\n",
            "0            0         3\n",
            "1           10         7\n",
            "2           20         9\n",
            "3           30        14\n",
            "4           40        15\n"
          ]
        }
      ]
    },
    {
      "cell_type": "code",
      "source": [
        "my_dataframe[\"adjusted\"] = my_dataframe[\"activity\"] + 2\n",
        "print(my_dataframe)"
      ],
      "metadata": {
        "colab": {
          "base_uri": "https://localhost:8080/"
        },
        "id": "nX4fjh7Op25c",
        "outputId": "b68aad01-ed64-40e7-ed4a-0c96485d03e5"
      },
      "execution_count": null,
      "outputs": [
        {
          "output_type": "stream",
          "name": "stdout",
          "text": [
            "   temperature  activity  adjusted\n",
            "0            0         3         5\n",
            "1           10         7         9\n",
            "2           20         9        11\n",
            "3           30        14        16\n",
            "4           40        15        17\n"
          ]
        }
      ]
    },
    {
      "cell_type": "code",
      "source": [
        "my_dataframe[\"Region\"] = my_dataframe[\"temperature\"] * 2\n",
        "print(my_dataframe)\n"
      ],
      "metadata": {
        "colab": {
          "base_uri": "https://localhost:8080/"
        },
        "id": "jpKLsXmbqk6O",
        "outputId": "0221981c-0ba8-477d-8dfb-f4b013773ff7"
      },
      "execution_count": null,
      "outputs": [
        {
          "output_type": "stream",
          "name": "stdout",
          "text": [
            "   temperature  activity  adjusted  Region\n",
            "0            0         3         5       0\n",
            "1           10         7         9      20\n",
            "2           20         9        11      40\n",
            "3           30        14        16      60\n",
            "4           40        15        17      80\n"
          ]
        }
      ]
    },
    {
      "cell_type": "code",
      "source": [
        "print(my_dataframe.head(3), '\\n')"
      ],
      "metadata": {
        "colab": {
          "base_uri": "https://localhost:8080/"
        },
        "id": "XBfi6GorwJuL",
        "outputId": "e73f050e-5a4c-4ae9-c4b6-c27f62bef2d5"
      },
      "execution_count": null,
      "outputs": [
        {
          "output_type": "stream",
          "name": "stdout",
          "text": [
            "   temperature  activity  adjusted  Region\n",
            "0            0         3         5       0\n",
            "1           10         7         9      20\n",
            "2           20         9        11      40 \n",
            "\n"
          ]
        }
      ]
    },
    {
      "cell_type": "code",
      "source": [
        "print(my_dataframe.iloc[[2]], '\\n')"
      ],
      "metadata": {
        "colab": {
          "base_uri": "https://localhost:8080/"
        },
        "id": "TyFxsbr3xuzx",
        "outputId": "53918f86-fdee-454e-a2f1-aaae9f9543d5"
      },
      "execution_count": null,
      "outputs": [
        {
          "output_type": "stream",
          "name": "stdout",
          "text": [
            "   temperature  activity  adjusted  Region\n",
            "2           20         9        11      40 \n",
            "\n"
          ]
        }
      ]
    },
    {
      "cell_type": "code",
      "source": [
        "my_data = np.random.randint(low=0, high=101, size=(3,4))\n",
        "columns_names = ([\"Eleanor\", \"Chidi\", \"Tahani\", \"Jason\"])\n",
        "my_dataframe = pd.DataFrame(data=my_data, columns=columns_names)\n",
        "my_dataframe['Janet'] = my_dataframe[\"Jason\"] + my_dataframe[\"Tahani\"]\n",
        "print(my_dataframe)"
      ],
      "metadata": {
        "colab": {
          "base_uri": "https://localhost:8080/"
        },
        "id": "t1OaeWJDzGyS",
        "outputId": "5835cefd-77cc-42c0-d8bd-3c9430775c61"
      },
      "execution_count": null,
      "outputs": [
        {
          "output_type": "stream",
          "name": "stdout",
          "text": [
            "   Eleanor  Chidi  Tahani  Jason  Janet\n",
            "0       53      8      61      3     64\n",
            "1       56     28      63     58    121\n",
            "2       64     47      31     78    109\n"
          ]
        }
      ]
    }
  ]
}