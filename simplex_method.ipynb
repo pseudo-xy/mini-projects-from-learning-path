{
  "nbformat": 4,
  "nbformat_minor": 0,
  "metadata": {
    "colab": {
      "provenance": [],
      "authorship_tag": "ABX9TyOPdsfdtPs2IjW6UNOT/95Y",
      "include_colab_link": true
    },
    "kernelspec": {
      "name": "python3",
      "display_name": "Python 3"
    },
    "language_info": {
      "name": "python"
    }
  },
  "cells": [
    {
      "cell_type": "markdown",
      "metadata": {
        "id": "view-in-github",
        "colab_type": "text"
      },
      "source": [
        "<a href=\"https://colab.research.google.com/github/pseudo-xy/pseudo-xy/blob/main/simplex_method.ipynb\" target=\"_parent\"><img src=\"https://colab.research.google.com/assets/colab-badge.svg\" alt=\"Open In Colab\"/></a>"
      ]
    },
    {
      "cell_type": "code",
      "execution_count": 2,
      "metadata": {
        "colab": {
          "base_uri": "https://localhost:8080/"
        },
        "id": "CrQr543CFIEY",
        "outputId": "ed339dca-a3e7-4725-b12b-f1a3164aa1c8"
      },
      "outputs": [
        {
          "output_type": "stream",
          "name": "stdout",
          "text": [
            "Optimal Solution:\n",
            "x1 = 12.0\n",
            "x2 = 2.0\n",
            "Optimal Objective Value: 66.0\n"
          ]
        }
      ],
      "source": [
        "import pulp\n",
        "\n",
        "# Create a maximization problem\n",
        "problem = pulp.LpProblem(\"LP\", pulp.LpMaximize)\n",
        "\n",
        "# Define decision variables\n",
        "x1 = pulp.LpVariable(\"x1\", lowBound=0)\n",
        "x2 = pulp.LpVariable(\"x2\", lowBound=0)\n",
        "\n",
        "# Define objective function\n",
        "problem += 5 * x1 + 3 * x2, \"obj\"\n",
        "\n",
        "# Add constraints\n",
        "problem += x1 + 2 * x2 <= 16, \"c1\"\n",
        "problem += x1 + 4 * x2 >= 20, \"c2\"\n",
        "problem += x2 <= 8, \"c3\"\n",
        "\n",
        "# Solve the LP\n",
        "problem.solve()\n",
        "\n",
        "# Print the results\n",
        "print(\"Optimal Solution:\")\n",
        "print(\"x1 =\", pulp.value(x1))\n",
        "print(\"x2 =\", pulp.value(x2))\n",
        "print(\"Optimal Objective Value:\", pulp.value(problem.objective))\n"
      ]
    },
    {
      "cell_type": "code",
      "source": [
        "!pip install pulp"
      ],
      "metadata": {
        "id": "GJnZM4HfFNv2"
      },
      "execution_count": null,
      "outputs": []
    },
    {
      "cell_type": "code",
      "source": [
        "import numpy as np\n",
        "from scipy.optimize import linprog\n",
        "\n",
        "# Define the LP problem\n",
        "c = [-1, 0]\n",
        "A_ub = [[1, 2], [-1, -4], [0, -1], [-8, 0]]\n",
        "b_ub = [16, -20, 0, 0]\n",
        "\n",
        "# Phase 1\n",
        "# Objective function coefficients\n",
        "c = [-1, 0]\n",
        "\n",
        "# Constraints coefficients\n",
        "A = [[1, 2], [-1, -4], [0, -1]]\n",
        "b = [16, -20, -0]\n",
        "\n",
        "# Solve using linprog\n",
        "res = linprog(c, A_ub=A, b_ub=b, bounds=(0, None), method='simplex')\n",
        "\n",
        "\n",
        "# Phase 2\n",
        "res = linprog(c=c, A_ub=A_ub, b_ub=b_ub, bounds=[(0, None), (0, None)])\n",
        "if res.status != 0:\n",
        "    print(\"Unbounded problem\")\n",
        "    exit()\n",
        "\n",
        "# Check for other optimal solutions\n",
        "if res.status == 0 and res.success and res.fun != -np.inf:\n",
        "    opt_solution = res.fun\n",
        "    opt_x = res.x\n",
        "    print(f\"Optimal solution: {opt_x}\")\n",
        "    while True:\n",
        "        # Add a constraint to exclude the previous solution\n",
        "        A_ub.append([-i for i in opt_x])\n",
        "        b_ub.append(-1)\n",
        "\n",
        "        # Solve the LP again\n",
        "        res = linprog(c=c, A_ub=A_ub, b_ub=b_ub, bounds=[(0, None), (0, None)])\n",
        "        if res.status != 0:\n",
        "            print(\"Unable to find another optimal solution\")\n",
        "            break\n",
        "\n",
        "        # Check if the new solution is the same as the previous solution\n",
        "        if np.allclose(opt_solution, res.fun) and np.allclose(opt_x, res.x):\n",
        "            print(\"All optimal solutions found\")\n",
        "            break\n",
        "\n",
        "        # Print the new solution\n",
        "        opt_solution = res.fun\n",
        "        opt_x = res.x\n",
        "        print(f\"Another optimal solution: {opt_x}\")\n"
      ],
      "metadata": {
        "colab": {
          "base_uri": "https://localhost:8080/"
        },
        "id": "v6GwqkEpFRzi",
        "outputId": "b877a458-fffe-4e9c-d245-e984f61e5406"
      },
      "execution_count": 4,
      "outputs": [
        {
          "output_type": "stream",
          "name": "stdout",
          "text": [
            "Optimal solution: [12.  2.]\n",
            "All optimal solutions found\n"
          ]
        },
        {
          "output_type": "stream",
          "name": "stderr",
          "text": [
            "<ipython-input-4-10688d8135db>:18: DeprecationWarning: `method='simplex'` is deprecated and will be removed in SciPy 1.11.0. Please use one of the HiGHS solvers (e.g. `method='highs'`) in new code.\n",
            "  res = linprog(c, A_ub=A, b_ub=b, bounds=(0, None), method='simplex')\n"
          ]
        }
      ]
    },
    {
      "cell_type": "code",
      "source": [],
      "metadata": {
        "id": "PwEwIwLlGT13"
      },
      "execution_count": null,
      "outputs": []
    }
  ]
}