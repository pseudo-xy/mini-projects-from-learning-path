{
  "nbformat": 4,
  "nbformat_minor": 0,
  "metadata": {
    "colab": {
      "provenance": [],
      "authorship_tag": "ABX9TyMdi4Tzkbw5XmiiFrpRzz6w",
      "include_colab_link": true
    },
    "kernelspec": {
      "name": "python3",
      "display_name": "Python 3"
    },
    "language_info": {
      "name": "python"
    }
  },
  "cells": [
    {
      "cell_type": "markdown",
      "metadata": {
        "id": "view-in-github",
        "colab_type": "text"
      },
      "source": [
        "<a href=\"https://colab.research.google.com/github/pseudo-xy/pseudo-xy/blob/main/linear_integer_programming.ipynb\" target=\"_parent\"><img src=\"https://colab.research.google.com/assets/colab-badge.svg\" alt=\"Open In Colab\"/></a>"
      ]
    },
    {
      "cell_type": "code",
      "execution_count": null,
      "metadata": {
        "id": "HZOSWKL5s_h1"
      },
      "outputs": [],
      "source": [
        "!pip install pulp"
      ]
    },
    {
      "cell_type": "code",
      "source": [
        "from pulp import *\n",
        "\n",
        "# Define the problem\n",
        "prob = LpProblem(\"Production Plan\", LpMaximize)\n",
        "\n",
        "# Define the decision variables\n",
        "x_1 = LpVariable(\"x_1\", lowBound=0, cat='Continuous')\n",
        "x_2 = LpVariable(\"x_2\", lowBound=0, cat='Continuous')\n",
        "x_3 = LpVariable(\"x_3\", lowBound=0, cat='Continuous')\n",
        "x_4 = LpVariable(\"x_4\", lowBound=0, cat='Continuous')\n",
        "x_5 = LpVariable(\"x_5\", lowBound=0, cat='Continuous')\n",
        "x_6 = LpVariable(\"x_6\", lowBound=0, cat='Continuous')\n",
        "x_7 = LpVariable(\"x_7\", lowBound=0, cat='Continuous')\n",
        "\n",
        "# Define the objective function\n",
        "prob += 100*x_1 + 120*x_2 + 135*x_3 + 90*x_4 + 125*x_5 + 110*x_6 + 105*x_7\n",
        "\n",
        "# Define the constraints\n",
        "prob += 0*x_1 + 5*x_2 + 5*x_3 + 4*x_4 + 8*x_5 + 5*x_6 + 3*x_7 <= 100\n",
        "prob += 3*x_1 + 10*x_2 + 3*x_3 + 6*x_4 + 2*x_5 + 2*x_6 + 2*x_7 <= 150\n",
        "prob += 10*x_1 + 10*x_2 + 9*x_3 + 3*x_4 + 8*x_5 + 10*x_6 + 7*x_7 <= 200\n",
        "\n",
        "# Solve the problem\n",
        "prob.solve()\n",
        "\n",
        "# Print the status of the solution\n",
        "print(\"Status: \", LpStatus[prob.status])\n",
        "\n",
        "# Print the optimal solution and its objective value\n",
        "print(\"Optimal Solution:\")\n",
        "for v in prob.variables():\n",
        "    print(v.name, \"=\", v.varValue)\n",
        "print(\"Objective Value: \", int(value(prob.objective)))\n"
      ],
      "metadata": {
        "colab": {
          "base_uri": "https://localhost:8080/"
        },
        "id": "u6VcffW8u_LW",
        "outputId": "c0a03397-8f76-428b-e63f-2d884ff40b2f"
      },
      "execution_count": null,
      "outputs": [
        {
          "output_type": "stream",
          "name": "stdout",
          "text": [
            "Status:  Optimal\n",
            "Optimal Solution:\n",
            "x_1 = 7.9617834\n",
            "x_2 = 0.0\n",
            "x_3 = 0.0\n",
            "x_4 = 17.834395\n",
            "x_5 = 0.0\n",
            "x_6 = 0.0\n",
            "x_7 = 9.5541401\n",
            "Objective Value:  3404\n"
          ]
        }
      ]
    },
    {
      "cell_type": "code",
      "source": [],
      "metadata": {
        "id": "VuIJihtb8pUg"
      },
      "execution_count": null,
      "outputs": []
    }
  ]
}