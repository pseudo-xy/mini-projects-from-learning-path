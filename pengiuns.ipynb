{
  "nbformat": 4,
  "nbformat_minor": 0,
  "metadata": {
    "colab": {
      "provenance": [],
      "authorship_tag": "ABX9TyNbQIDI2CSYevOl3EQ2Kj9J",
      "include_colab_link": true
    },
    "kernelspec": {
      "name": "python3",
      "display_name": "Python 3"
    },
    "language_info": {
      "name": "python"
    }
  },
  "cells": [
    {
      "cell_type": "markdown",
      "metadata": {
        "id": "view-in-github",
        "colab_type": "text"
      },
      "source": [
        "<a href=\"https://colab.research.google.com/github/pseudo-xy/pseudo-xy/blob/main/pengiuns.ipynb\" target=\"_parent\"><img src=\"https://colab.research.google.com/assets/colab-badge.svg\" alt=\"Open In Colab\"/></a>"
      ]
    },
    {
      "cell_type": "code",
      "execution_count": null,
      "metadata": {
        "id": "bdWs9O42IOVy",
        "colab": {
          "base_uri": "https://localhost:8080/"
        },
        "outputId": "fbc2e27d-e952-4ef1-9435-e7ead299f750"
      },
      "outputs": [
        {
          "output_type": "stream",
          "name": "stderr",
          "text": [
            "COMET INFO: Comet API key is valid\n",
            "COMET WARNING: Comet has disabled auto-logging functionality as it has been imported after the following ML modules: tensorboard, keras, tensorflow. Metrics and hyperparameters can still be logged using Experiment.log_metrics() and Experiment.log_parameters()\n",
            "COMET INFO: ---------------------------------------------------------------------------------------\n",
            "COMET INFO: Comet.ml Experiment Summary\n",
            "COMET INFO: ---------------------------------------------------------------------------------------\n",
            "COMET INFO:   Data:\n",
            "COMET INFO:     display_summary_level : 1\n",
            "COMET INFO:     url                   : https://www.comet.com/eaamo/general/b2a9e1bc25894b5eac47e44642750961\n",
            "COMET INFO:   Parameters:\n",
            "COMET INFO:     add_indicator       : False\n",
            "COMET INFO:     categories          : auto\n",
            "COMET INFO:     copy                : True\n",
            "COMET INFO:     drop                : 1\n",
            "COMET INFO:     dtype               : <class 'numpy.float64'>\n",
            "COMET INFO:     fill_value          : 1\n",
            "COMET INFO:     handle_unknown      : ignore\n",
            "COMET INFO:     keep_empty_features : False\n",
            "COMET INFO:     max_categories      : 1\n",
            "COMET INFO:     min_frequency       : 1\n",
            "COMET INFO:     missing_values      : nan\n",
            "COMET INFO:     sparse              : deprecated\n",
            "COMET INFO:     sparse_output       : True\n",
            "COMET INFO:     strategy            : most_frequent\n",
            "COMET INFO:     verbose             : deprecated\n",
            "COMET INFO:     with_mean           : True\n",
            "COMET INFO:     with_std            : True\n",
            "COMET INFO:   Uploads:\n",
            "COMET INFO:     environment details : 1\n",
            "COMET INFO:     filename            : 1\n",
            "COMET INFO:     installed packages  : 1\n",
            "COMET INFO:     notebook            : 2\n",
            "COMET INFO:     os packages         : 1\n",
            "COMET INFO:     source_code         : 1\n",
            "COMET INFO: \n",
            "COMET WARNING: Comet has disabled auto-logging functionality as it has been imported after the following ML modules: tensorboard, keras, tensorflow. Metrics and hyperparameters can still be logged using Experiment.log_metrics() and Experiment.log_parameters()\n",
            "COMET WARNING: As you are running in a Jupyter environment, you will need to call `experiment.end()` when finished to ensure all metrics and code are logged before exiting.\n",
            "COMET ERROR: Failed to calculate active processors count. Fall back to default CPU count 1\n",
            "COMET INFO: Couldn't find a Git repository in '/content' nor in any parent directory. You can override where Comet is looking for a Git Patch by setting the configuration `COMET_GIT_DIRECTORY`\n",
            "COMET INFO: Experiment is live on comet.com https://www.comet.com/eaamo/penguins/e7b8a33ebfb441d8bd84cf15d3770211\n",
            "\n"
          ]
        }
      ],
      "source": [
        "import os\n",
        "import numpy as np\n",
        "import pandas as pd\n",
        "import seaborn as sns\n",
        "import tempfile\n",
        "import tensorflow as tf\n",
        "import urllib.request\n",
        "\n",
        "from comet_ml import Experiment\n",
        "from keras_tuner import RandomSearch\n",
        "from tensorflow import keras\n",
        "from tensorflow.keras import layers, losses, metrics, optimizers\n",
        "from tensorflow.keras.utils import to_categorical\n",
        "from sklearn.model_selection import train_test_split\n",
        "from sklearn.compose import ColumnTransformer\n",
        "from sklearn.impute import SimpleImputer\n",
        "from sklearn.pipeline import Pipeline\n",
        "from sklearn.preprocessing import OneHotEncoder, LabelEncoder, StandardScaler\n",
        "\n",
        "import comet_ml\n",
        "comet_ml.init()\n",
        "\n",
        "experiment = Experiment(\n",
        "    project_name=\"Penguins\",\n",
        "    auto_metric_logging=True,\n",
        "    auto_param_logging=True,\n",
        "    auto_histogram_weight_logging=True,\n",
        "    auto_histogram_gradient_logging=True,\n",
        "    auto_histogram_activation_logging=True,\n",
        "    log_code=True\n",
        ")"
      ]
    },
    {
      "cell_type": "code",
      "source": [
        "Experiment(log_code=True)"
      ],
      "metadata": {
        "id": "xxTsjVE-nLld"
      },
      "execution_count": null,
      "outputs": []
    },
    {
      "cell_type": "code",
      "source": [
        "!pip install comet_ml"
      ],
      "metadata": {
        "id": "9LSr2_bkItwe"
      },
      "execution_count": null,
      "outputs": []
    },
    {
      "cell_type": "code",
      "source": [
        "!pip install comet_ml keras_tuner"
      ],
      "metadata": {
        "id": "pwkwlzYaYQOy"
      },
      "execution_count": null,
      "outputs": []
    },
    {
      "cell_type": "code",
      "source": [
        "DATA_DIRECTORY = tempfile.mkdtemp(prefix=\"keras-tuner-data\")\n",
        "DATA_FILEPATH = os.path.join(DATA_DIRECTORY, \"penguins.csv\")\n",
        "\n",
        "urllib.request.urlretrieve(\n",
        "    \"https://storage.googleapis.com/download.tensorflow.org/data/palmer_penguins/penguins_size.csv\", \n",
        "    DATA_FILEPATH\n",
        ")\n",
        "\n",
        "df = pd.read_csv(DATA_FILEPATH)\n",
        "\n",
        "experiment.log_table(filename=\"penguins.csv\", tabular_data=df)\n",
        "df.info()"
      ],
      "metadata": {
        "colab": {
          "base_uri": "https://localhost:8080/"
        },
        "id": "4fnJ5Z_pIwpZ",
        "outputId": "b5cadea9-022b-42ff-a049-822b9e18b882"
      },
      "execution_count": null,
      "outputs": [
        {
          "output_type": "stream",
          "name": "stdout",
          "text": [
            "<class 'pandas.core.frame.DataFrame'>\n",
            "RangeIndex: 344 entries, 0 to 343\n",
            "Data columns (total 7 columns):\n",
            " #   Column             Non-Null Count  Dtype  \n",
            "---  ------             --------------  -----  \n",
            " 0   species            344 non-null    object \n",
            " 1   island             344 non-null    object \n",
            " 2   culmen_length_mm   342 non-null    float64\n",
            " 3   culmen_depth_mm    342 non-null    float64\n",
            " 4   flipper_length_mm  342 non-null    float64\n",
            " 5   body_mass_g        342 non-null    float64\n",
            " 6   sex                334 non-null    object \n",
            "dtypes: float64(4), object(3)\n",
            "memory usage: 18.9+ KB\n"
          ]
        }
      ]
    },
    {
      "cell_type": "code",
      "source": [
        "numerical_columns = [column for column in df.columns if df[column].dtype in [\"int64\", \"float64\"]]\n",
        "\n",
        "numerical_preprocessor = Pipeline(steps=[\n",
        "    (\"imputer\", SimpleImputer(strategy=\"mean\")),\n",
        "    (\"scaler\", StandardScaler())\n",
        "])\n",
        "\n",
        "categorical_preprocessor = Pipeline(steps=[\n",
        "    (\"imputer\", SimpleImputer(strategy=\"most_frequent\")),\n",
        "    (\"onehot\", OneHotEncoder(handle_unknown=\"ignore\"))\n",
        "])\n",
        "\n",
        "preprocessor = ColumnTransformer(\n",
        "    transformers=[\n",
        "        (\"numerical\", numerical_preprocessor, numerical_columns),\n",
        "        (\"categorical\", categorical_preprocessor, [\"island\"]),\n",
        "    ]\n",
        ")"
      ],
      "metadata": {
        "id": "X2tZ5n4ENoUh"
      },
      "execution_count": null,
      "outputs": []
    },
    {
      "cell_type": "code",
      "source": [
        "y = df.species\n",
        "X = df.drop([\"species\", \"sex\"], axis=1)\n",
        "\n",
        "X_train, X_test, y_train, y_test = train_test_split(\n",
        "    X, \n",
        "    y, \n",
        "    test_size=0.20, \n",
        "    random_state=42\n",
        ")\n",
        "\n",
        "X_train = preprocessor.fit_transform(X_train)\n",
        "X_test = preprocessor.transform(X_test)\n",
        "\n",
        "# preventing data leakages \n",
        "\n",
        "label_encoder = LabelEncoder()\n",
        "\n",
        "y_train = label_encoder.fit_transform(y_train)\n",
        "y_test = label_encoder.transform(y_test)"
      ],
      "metadata": {
        "id": "gyLz4ZQMTOWZ"
      },
      "execution_count": null,
      "outputs": []
    },
    {
      "cell_type": "code",
      "source": [
        "def _model(hp):\n",
        "    model = keras.Sequential([\n",
        "        layers.Dense(\n",
        "            hp.Int(\"dense_1_units\", min_value=4, max_value=12, step=4, default=8),\n",
        "            input_shape=(X_train.shape[1],)\n",
        "            \n",
        "        ),\n",
        "        layers.Dense(\n",
        "            hp.Int(\"dense_2_units\", min_value=4, max_value=12, step=4, default=8), \n",
        "            activation=\"relu\"\n",
        "        ),\n",
        "        layers.Dense(3, activation=\"softmax\"),\n",
        "    ])\n",
        "\n",
        "    model.compile(\n",
        "        optimizer=optimizers.Adam(\n",
        "            hp.Choice(\"learning_rate\", values=[1e-2, 1e-3])\n",
        "        ),\n",
        "        loss=\"categorical_crossentropy\",\n",
        "        metrics=[\"accuracy\"]\n",
        "    )\n",
        "\n",
        "    return model"
      ],
      "metadata": {
        "id": "JuYc4UG9Tsig"
      },
      "execution_count": null,
      "outputs": []
    },
    {
      "cell_type": "code",
      "source": [
        "tuner = RandomSearch(\n",
        "    _model,\n",
        "    objective=\"val_accuracy\",\n",
        "    max_trials=10,\n",
        "    overwrite=True,\n",
        "    directory=\"keras-tuner\",\n",
        "    project_name=\"keras-tuner-example\",\n",
        ")\n",
        "\n",
        "tuner.search_space_summary()\n",
        "\n",
        "tuner.search(\n",
        "    X_train[:,:], \n",
        "    to_categorical(y_train), \n",
        "    epochs=5, \n",
        "    validation_data=(X_test[:,:], to_categorical(y_test))\n",
        ")\n",
        "\n",
        "tuner.results_summary()"
      ],
      "metadata": {
        "colab": {
          "base_uri": "https://localhost:8080/"
        },
        "id": "2Xpa5hBwbaXq",
        "outputId": "c628b514-ac1b-454f-822f-4c485e159c6f"
      },
      "execution_count": null,
      "outputs": [
        {
          "output_type": "stream",
          "name": "stdout",
          "text": [
            "Trial 10 Complete [00h 00m 02s]\n",
            "val_accuracy: 0.739130437374115\n",
            "\n",
            "Best val_accuracy So Far: 1.0\n",
            "Total elapsed time: 00h 00m 21s\n",
            "Results summary\n",
            "Results in keras-tuner/keras-tuner-example\n",
            "Showing 10 best trials\n",
            "Objective(name=\"val_accuracy\", direction=\"max\")\n",
            "\n",
            "Trial 08 summary\n",
            "Hyperparameters:\n",
            "dense_1_units: 4\n",
            "dense_2_units: 12\n",
            "learning_rate: 0.01\n",
            "Score: 1.0\n",
            "\n",
            "Trial 04 summary\n",
            "Hyperparameters:\n",
            "dense_1_units: 8\n",
            "dense_2_units: 12\n",
            "learning_rate: 0.01\n",
            "Score: 0.9855072498321533\n",
            "\n",
            "Trial 06 summary\n",
            "Hyperparameters:\n",
            "dense_1_units: 12\n",
            "dense_2_units: 8\n",
            "learning_rate: 0.01\n",
            "Score: 0.9855072498321533\n",
            "\n",
            "Trial 03 summary\n",
            "Hyperparameters:\n",
            "dense_1_units: 8\n",
            "dense_2_units: 4\n",
            "learning_rate: 0.01\n",
            "Score: 0.9710144996643066\n",
            "\n",
            "Trial 07 summary\n",
            "Hyperparameters:\n",
            "dense_1_units: 12\n",
            "dense_2_units: 12\n",
            "learning_rate: 0.001\n",
            "Score: 0.9130434989929199\n",
            "\n",
            "Trial 05 summary\n",
            "Hyperparameters:\n",
            "dense_1_units: 12\n",
            "dense_2_units: 4\n",
            "learning_rate: 0.001\n",
            "Score: 0.8260869383811951\n",
            "\n",
            "Trial 01 summary\n",
            "Hyperparameters:\n",
            "dense_1_units: 8\n",
            "dense_2_units: 12\n",
            "learning_rate: 0.001\n",
            "Score: 0.782608687877655\n",
            "\n",
            "Trial 00 summary\n",
            "Hyperparameters:\n",
            "dense_1_units: 4\n",
            "dense_2_units: 8\n",
            "learning_rate: 0.01\n",
            "Score: 0.7681159377098083\n",
            "\n",
            "Trial 09 summary\n",
            "Hyperparameters:\n",
            "dense_1_units: 4\n",
            "dense_2_units: 12\n",
            "learning_rate: 0.001\n",
            "Score: 0.739130437374115\n",
            "\n",
            "Trial 02 summary\n",
            "Hyperparameters:\n",
            "dense_1_units: 4\n",
            "dense_2_units: 8\n",
            "learning_rate: 0.001\n",
            "Score: 0.4492753744125366\n"
          ]
        }
      ]
    },
    {
      "cell_type": "code",
      "source": [
        "best_model = tuner.get_best_models(num_models=1)[0]\n",
        "y_pred = np.argmax(best_model.predict(X_test), axis=-1)\n",
        "accuracy = np.sum(y_pred == y_test) / len(y_test) * 100\n",
        "print(f\"Accuracy: {accuracy:.2f}\")\n",
        "\n",
        "results = pd.DataFrame(np.concatenate((\n",
        "    X_test, \n",
        "    np.expand_dims(y_test, axis=1), \n",
        "    np.expand_dims(y_pred, axis=1)), axis=1), columns=[\n",
        "        \"Culmen Length\", \"Culmen Depth\", \"Flipper Length\", \"Body Mass\", \n",
        "        \"Island - Biscoe\", \"Island - Dream\", \"Island - Torgersen\", \n",
        "        \"Species\", \"Prediction\"]\n",
        ")\n",
        "\n",
        "experiment.log_table(filename=\"results.csv\", tabular_data=results)\n",
        "experiment.display(\"panels\")\n",
        "experiment.end()"
      ],
      "metadata": {
        "colab": {
          "base_uri": "https://localhost:8080/",
          "height": 1000
        },
        "id": "lTEW9Csyb49B",
        "outputId": "52b9853f-90ad-4dcd-929b-039bfb38c7ef"
      },
      "execution_count": null,
      "outputs": [
        {
          "output_type": "display_data",
          "data": {
            "text/plain": [
              "<IPython.lib.display.IFrame at 0x7fbce16c2d60>"
            ],
            "text/html": [
              "\n",
              "        <iframe\n",
              "            width=\"100%\"\n",
              "            height=\"800px\"\n",
              "            src=\"https://www.comet.com/eaamo/penguins/e7b8a33ebfb441d8bd84cf15d3770211\"\n",
              "            frameborder=\"0\"\n",
              "            allowfullscreen\n",
              "            \n",
              "        ></iframe>\n",
              "        "
            ]
          },
          "metadata": {}
        },
        {
          "output_type": "stream",
          "name": "stderr",
          "text": [
            "COMET INFO: ---------------------------------------------------------------------------------------\n",
            "COMET INFO: Comet.ml Experiment Summary\n",
            "COMET INFO: ---------------------------------------------------------------------------------------\n",
            "COMET INFO:   Data:\n",
            "COMET INFO:     display_summary_level : 1\n",
            "COMET INFO:     url                   : https://www.comet.com/eaamo/penguins/e7b8a33ebfb441d8bd84cf15d3770211\n",
            "COMET INFO:   Parameters:\n",
            "COMET INFO:     add_indicator       : False\n",
            "COMET INFO:     categories          : auto\n",
            "COMET INFO:     copy                : True\n",
            "COMET INFO:     drop                : 1\n",
            "COMET INFO:     dtype               : <class 'numpy.float64'>\n",
            "COMET INFO:     fill_value          : 1\n",
            "COMET INFO:     handle_unknown      : ignore\n",
            "COMET INFO:     keep_empty_features : False\n",
            "COMET INFO:     max_categories      : 1\n",
            "COMET INFO:     min_frequency       : 1\n",
            "COMET INFO:     missing_values      : nan\n",
            "COMET INFO:     sparse              : deprecated\n",
            "COMET INFO:     sparse_output       : True\n",
            "COMET INFO:     strategy            : most_frequent\n",
            "COMET INFO:     verbose             : deprecated\n",
            "COMET INFO:     with_mean           : True\n",
            "COMET INFO:     with_std            : True\n",
            "COMET INFO:   Uploads:\n",
            "COMET INFO:     dataframe           : 2 (22.78 KB)\n",
            "COMET INFO:     environment details : 1\n",
            "COMET INFO:     filename            : 1\n",
            "COMET INFO:     installed packages  : 1\n",
            "COMET INFO:     notebook            : 2\n",
            "COMET INFO:     os packages         : 1\n",
            "COMET INFO:     source_code         : 1\n",
            "COMET INFO: \n",
            "COMET WARNING: Comet has disabled auto-logging functionality as it has been imported after the following ML modules: tensorboard, keras, tensorflow. Metrics and hyperparameters can still be logged using Experiment.log_metrics() and Experiment.log_parameters()\n",
            "COMET INFO: Uploading metrics, params, and assets to Comet before program termination (may take several seconds)\n",
            "COMET INFO: The Python SDK has 3600 seconds to finish uploading collected data\n"
          ]
        }
      ]
    },
    {
      "cell_type": "code",
      "source": [],
      "metadata": {
        "id": "LpydJztyca-J"
      },
      "execution_count": null,
      "outputs": []
    }
  ]
}